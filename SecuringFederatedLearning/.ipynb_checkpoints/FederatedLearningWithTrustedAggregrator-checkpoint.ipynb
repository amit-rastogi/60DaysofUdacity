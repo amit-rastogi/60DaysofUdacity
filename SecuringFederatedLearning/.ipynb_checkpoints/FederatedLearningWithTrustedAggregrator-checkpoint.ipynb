{
 "cells": [
  {
   "cell_type": "code",
   "execution_count": 1,
   "metadata": {},
   "outputs": [
    {
     "name": "stderr",
     "output_type": "stream",
     "text": [
      "WARNING:tf_encrypted:Falling back to insecure randomness since the required custom op could not be found for the installed version of TensorFlow (1.13.1). Fix this by compiling custom ops.\n"
     ]
    }
   ],
   "source": [
    "import torch\n",
    "import syft as sy\n",
    "from torch import nn, optim\n",
    "import torch.nn.functional as f"
   ]
  },
  {
   "cell_type": "code",
   "execution_count": 2,
   "metadata": {},
   "outputs": [],
   "source": [
    "class network(nn.Module):\n",
    "    def __init__(self):\n",
    "        super(network, self).__init__()\n",
    "        self.fc1 = nn.Linear(2,2)\n",
    "        self.fc2 = nn.Linear(2,1)\n",
    "    \n",
    "    def forward(self, x):\n",
    "        x = self.fc1(x)\n",
    "        x = f.relu(x)\n",
    "        x = self.fc2(x)\n",
    "        return x\n",
    "\n",
    "final_model = network()"
   ]
  },
  {
   "cell_type": "code",
   "execution_count": 3,
   "metadata": {},
   "outputs": [],
   "source": [
    "hook = sy.TorchHook(torch)\n",
    "\n",
    "bob = sy.VirtualWorker(hook, id=\"bob\")\n",
    "alice = sy.VirtualWorker(hook, id=\"alice\")\n",
    "trusted_aggregrator = sy.VirtualWorker(hook, id=\"trusted_aggregrator\")"
   ]
  },
  {
   "cell_type": "code",
   "execution_count": 4,
   "metadata": {},
   "outputs": [],
   "source": [
    "x = torch.tensor([[1.,2],[2,3],[4,5],[2,4]])\n",
    "y = torch.tensor([[1.],[0],[0],[1]])"
   ]
  },
  {
   "cell_type": "code",
   "execution_count": 5,
   "metadata": {},
   "outputs": [],
   "source": [
    "bob_x = x[0:2].send(bob)\n",
    "bob_y = y[0:2].send(bob)\n",
    "\n",
    "alice_x = x[2:].send(alice)\n",
    "alice_y = y[2:].send(alice)\n",
    "\n",
    "model_bob = final_model.copy().send(bob)\n",
    "model_alice = final_model.copy().send(alice)\n",
    "\n",
    "bob_optim = optim.SGD(model_bob.parameters(), lr=0.003)\n",
    "alice_optim = optim.SGD(model_alice.parameters(), lr=0.003)\n",
    "\n",
    "data_x = [bob_x, alice_x]\n",
    "data_y = [bob_y, alice_y]\n",
    "models = [model_bob, model_alice]\n",
    "optims = [bob_optim, alice_optim]"
   ]
  },
  {
   "cell_type": "code",
   "execution_count": 6,
   "metadata": {},
   "outputs": [
    {
     "name": "stdout",
     "output_type": "stream",
     "text": [
      "Model: <VirtualWorker id:bob #tensors:8> Loss: tensor(0.6910)\n",
      "Model: <VirtualWorker id:bob #tensors:8> Loss: tensor(0.6816)\n",
      "Model: <VirtualWorker id:bob #tensors:8> Loss: tensor(0.6687)\n",
      "Model: <VirtualWorker id:bob #tensors:8> Loss: tensor(0.6460)\n",
      "Model: <VirtualWorker id:bob #tensors:8> Loss: tensor(0.6069)\n",
      "Model: <VirtualWorker id:bob #tensors:8> Loss: tensor(0.5471)\n",
      "Model: <VirtualWorker id:bob #tensors:8> Loss: tensor(0.4697)\n",
      "Model: <VirtualWorker id:bob #tensors:8> Loss: tensor(0.3858)\n",
      "Model: <VirtualWorker id:bob #tensors:8> Loss: tensor(0.3097)\n",
      "Model: <VirtualWorker id:bob #tensors:8> Loss: tensor(0.2479)\n",
      "Model: <VirtualWorker id:bob #tensors:8> Loss: tensor(0.2004)\n",
      "Model: <VirtualWorker id:bob #tensors:8> Loss: tensor(0.1648)\n",
      "Model: <VirtualWorker id:bob #tensors:8> Loss: tensor(0.1375)\n",
      "Model: <VirtualWorker id:bob #tensors:8> Loss: tensor(0.1166)\n",
      "Model: <VirtualWorker id:bob #tensors:8> Loss: tensor(0.1009)\n",
      "Model: <VirtualWorker id:bob #tensors:8> Loss: tensor(0.0880)\n",
      "Model: <VirtualWorker id:bob #tensors:8> Loss: tensor(0.0778)\n",
      "Model: <VirtualWorker id:bob #tensors:8> Loss: tensor(0.0695)\n",
      "Model: <VirtualWorker id:bob #tensors:8> Loss: tensor(0.0628)\n",
      "Model: <VirtualWorker id:bob #tensors:8> Loss: tensor(0.0569)\n",
      "Model: <VirtualWorker id:bob #tensors:8> Loss: tensor(0.0521)\n",
      "Model: <VirtualWorker id:bob #tensors:8> Loss: tensor(0.0479)\n",
      "Model: <VirtualWorker id:bob #tensors:8> Loss: tensor(0.0443)\n",
      "Model: <VirtualWorker id:bob #tensors:8> Loss: tensor(0.0411)\n",
      "Model: <VirtualWorker id:bob #tensors:8> Loss: tensor(0.0384)\n",
      "Model: <VirtualWorker id:bob #tensors:8> Loss: tensor(0.0359)\n",
      "Model: <VirtualWorker id:bob #tensors:8> Loss: tensor(0.0337)\n",
      "Model: <VirtualWorker id:bob #tensors:8> Loss: tensor(0.0318)\n",
      "Model: <VirtualWorker id:bob #tensors:8> Loss: tensor(0.0301)\n",
      "Model: <VirtualWorker id:bob #tensors:8> Loss: tensor(0.0285)\n",
      "Model: <VirtualWorker id:bob #tensors:8> Loss: tensor(0.0271)\n",
      "Model: <VirtualWorker id:bob #tensors:8> Loss: tensor(0.0258)\n",
      "Model: <VirtualWorker id:bob #tensors:8> Loss: tensor(0.0246)\n",
      "Model: <VirtualWorker id:bob #tensors:8> Loss: tensor(0.0235)\n",
      "Model: <VirtualWorker id:bob #tensors:8> Loss: tensor(0.0225)\n",
      "Model: <VirtualWorker id:bob #tensors:8> Loss: tensor(0.0216)\n",
      "Model: <VirtualWorker id:bob #tensors:8> Loss: tensor(0.0207)\n",
      "Model: <VirtualWorker id:bob #tensors:8> Loss: tensor(0.0199)\n",
      "Model: <VirtualWorker id:bob #tensors:8> Loss: tensor(0.0192)\n",
      "Model: <VirtualWorker id:bob #tensors:8> Loss: tensor(0.0185)\n",
      "Model: <VirtualWorker id:bob #tensors:8> Loss: tensor(0.0179)\n",
      "Model: <VirtualWorker id:bob #tensors:8> Loss: tensor(0.0172)\n",
      "Model: <VirtualWorker id:bob #tensors:8> Loss: tensor(0.0167)\n",
      "Model: <VirtualWorker id:bob #tensors:8> Loss: tensor(0.0162)\n",
      "Model: <VirtualWorker id:bob #tensors:8> Loss: tensor(0.0157)\n",
      "Model: <VirtualWorker id:bob #tensors:8> Loss: tensor(0.0152)\n",
      "Model: <VirtualWorker id:bob #tensors:8> Loss: tensor(0.0147)\n",
      "Model: <VirtualWorker id:bob #tensors:8> Loss: tensor(0.0143)\n",
      "Model: <VirtualWorker id:bob #tensors:8> Loss: tensor(0.0139)\n",
      "Model: <VirtualWorker id:bob #tensors:8> Loss: tensor(0.0135)\n",
      "Model: <VirtualWorker id:alice #tensors:8> Loss: tensor(0.6964)\n",
      "Model: <VirtualWorker id:alice #tensors:8> Loss: tensor(0.6939)\n",
      "Model: <VirtualWorker id:alice #tensors:8> Loss: tensor(0.6933)\n",
      "Model: <VirtualWorker id:alice #tensors:8> Loss: tensor(0.6932)\n",
      "Model: <VirtualWorker id:alice #tensors:8> Loss: tensor(0.6932)\n",
      "Model: <VirtualWorker id:alice #tensors:8> Loss: tensor(0.6931)\n",
      "Model: <VirtualWorker id:alice #tensors:8> Loss: tensor(0.6931)\n",
      "Model: <VirtualWorker id:alice #tensors:8> Loss: tensor(0.6931)\n",
      "Model: <VirtualWorker id:alice #tensors:8> Loss: tensor(0.6931)\n",
      "Model: <VirtualWorker id:alice #tensors:8> Loss: tensor(0.6931)\n",
      "Model: <VirtualWorker id:alice #tensors:8> Loss: tensor(0.6931)\n",
      "Model: <VirtualWorker id:alice #tensors:8> Loss: tensor(0.6931)\n",
      "Model: <VirtualWorker id:alice #tensors:8> Loss: tensor(0.6931)\n",
      "Model: <VirtualWorker id:alice #tensors:8> Loss: tensor(0.6931)\n",
      "Model: <VirtualWorker id:alice #tensors:8> Loss: tensor(0.6931)\n",
      "Model: <VirtualWorker id:alice #tensors:8> Loss: tensor(0.6931)\n",
      "Model: <VirtualWorker id:alice #tensors:8> Loss: tensor(0.6931)\n",
      "Model: <VirtualWorker id:alice #tensors:8> Loss: tensor(0.6931)\n",
      "Model: <VirtualWorker id:alice #tensors:8> Loss: tensor(0.6931)\n",
      "Model: <VirtualWorker id:alice #tensors:8> Loss: tensor(0.6931)\n",
      "Model: <VirtualWorker id:alice #tensors:8> Loss: tensor(0.6931)\n",
      "Model: <VirtualWorker id:alice #tensors:8> Loss: tensor(0.6931)\n",
      "Model: <VirtualWorker id:alice #tensors:8> Loss: tensor(0.6931)\n",
      "Model: <VirtualWorker id:alice #tensors:8> Loss: tensor(0.6931)\n",
      "Model: <VirtualWorker id:alice #tensors:8> Loss: tensor(0.6931)\n",
      "Model: <VirtualWorker id:alice #tensors:8> Loss: tensor(0.6931)\n",
      "Model: <VirtualWorker id:alice #tensors:8> Loss: tensor(0.6931)\n",
      "Model: <VirtualWorker id:alice #tensors:8> Loss: tensor(0.6931)\n",
      "Model: <VirtualWorker id:alice #tensors:8> Loss: tensor(0.6931)\n",
      "Model: <VirtualWorker id:alice #tensors:8> Loss: tensor(0.6931)\n",
      "Model: <VirtualWorker id:alice #tensors:8> Loss: tensor(0.6931)\n",
      "Model: <VirtualWorker id:alice #tensors:8> Loss: tensor(0.6931)\n",
      "Model: <VirtualWorker id:alice #tensors:8> Loss: tensor(0.6931)\n",
      "Model: <VirtualWorker id:alice #tensors:8> Loss: tensor(0.6931)\n",
      "Model: <VirtualWorker id:alice #tensors:8> Loss: tensor(0.6931)\n",
      "Model: <VirtualWorker id:alice #tensors:8> Loss: tensor(0.6931)\n",
      "Model: <VirtualWorker id:alice #tensors:8> Loss: tensor(0.6931)\n",
      "Model: <VirtualWorker id:alice #tensors:8> Loss: tensor(0.6931)\n",
      "Model: <VirtualWorker id:alice #tensors:8> Loss: tensor(0.6931)\n",
      "Model: <VirtualWorker id:alice #tensors:8> Loss: tensor(0.6931)\n",
      "Model: <VirtualWorker id:alice #tensors:8> Loss: tensor(0.6931)\n",
      "Model: <VirtualWorker id:alice #tensors:8> Loss: tensor(0.6931)\n",
      "Model: <VirtualWorker id:alice #tensors:8> Loss: tensor(0.6931)\n",
      "Model: <VirtualWorker id:alice #tensors:8> Loss: tensor(0.6931)\n",
      "Model: <VirtualWorker id:alice #tensors:8> Loss: tensor(0.6931)\n",
      "Model: <VirtualWorker id:alice #tensors:8> Loss: tensor(0.6931)\n",
      "Model: <VirtualWorker id:alice #tensors:8> Loss: tensor(0.6931)\n",
      "Model: <VirtualWorker id:alice #tensors:8> Loss: tensor(0.6931)\n",
      "Model: <VirtualWorker id:alice #tensors:8> Loss: tensor(0.6931)\n",
      "Model: <VirtualWorker id:alice #tensors:8> Loss: tensor(0.6931)\n"
     ]
    }
   ],
   "source": [
    "for x,y,m,o in zip(data_x, data_y, models, optims):\n",
    "    for epoch in range(50):\n",
    "        for i in range(1000):\n",
    "            pred = m(x)\n",
    "            o.zero_grad()\n",
    "            loss = f.binary_cross_entropy(torch.sigmoid(pred), y)\n",
    "            loss.backward()\n",
    "            o.step()\n",
    "        #print loss after each epoch    \n",
    "        print(\"Model: \" + str(x.location) + \" Loss: \" + str(loss.get().data))\n",
    "        "
   ]
  },
  {
   "cell_type": "code",
   "execution_count": 7,
   "metadata": {},
   "outputs": [
    {
     "name": "stdout",
     "output_type": "stream",
     "text": [
      "tensor([[-0.0929, -0.0340],\n",
      "        [ 0.4715, -0.4788]])\n",
      "tensor([0.1327, 0.5191])\n",
      "tensor([[0.3127, 0.3289]])\n",
      "tensor([0.3383])\n"
     ]
    }
   ],
   "source": [
    "print(final_model.fc1.weight.data)\n",
    "print(final_model.fc1.bias.data)\n",
    "print(final_model.fc2.weight.data)\n",
    "print(final_model.fc2.bias.data)"
   ]
  },
  {
   "cell_type": "code",
   "execution_count": 8,
   "metadata": {},
   "outputs": [],
   "source": [
    "#aggregrate the weights on trusted aggregrator worker and update the final_model's parameters\n",
    "model_bob.move(trusted_aggregrator)\n",
    "model_alice.move(trusted_aggregrator)\n",
    "\n",
    "final_model.fc1.weight.data = ((model_bob.fc1.weight.data + model_alice.fc1.weight.data)/2).get()\n",
    "final_model.fc1.bias.data = ((model_bob.fc1.bias.data + model_alice.fc1.bias.data)/2).get()\n",
    "final_model.fc2.weight.data = ((model_bob.fc2.weight.data + model_alice.fc2.weight.data)/2).get()\n",
    "final_model.fc2.bias.data = ((model_bob.fc2.bias.data + model_alice.fc2.bias.data)/2).get()"
   ]
  },
  {
   "cell_type": "code",
   "execution_count": 9,
   "metadata": {},
   "outputs": [
    {
     "name": "stdout",
     "output_type": "stream",
     "text": [
      "tensor([[-0.0929, -0.0340],\n",
      "        [-0.8923, -0.1419]])\n",
      "tensor([0.1327, 2.2199])\n",
      "tensor([[0.3127, 2.3920]])\n",
      "tensor([-1.8908])\n"
     ]
    }
   ],
   "source": [
    "print(final_model.fc1.weight.data)\n",
    "print(final_model.fc1.bias.data)\n",
    "print(final_model.fc2.weight.data)\n",
    "print(final_model.fc2.bias.data)"
   ]
  },
  {
   "cell_type": "code",
   "execution_count": null,
   "metadata": {},
   "outputs": [],
   "source": []
  }
 ],
 "metadata": {
  "kernelspec": {
   "display_name": "Python 3",
   "language": "python",
   "name": "python3"
  },
  "language_info": {
   "codemirror_mode": {
    "name": "ipython",
    "version": 3
   },
   "file_extension": ".py",
   "mimetype": "text/x-python",
   "name": "python",
   "nbconvert_exporter": "python",
   "pygments_lexer": "ipython3",
   "version": "3.7.3"
  }
 },
 "nbformat": 4,
 "nbformat_minor": 2
}
