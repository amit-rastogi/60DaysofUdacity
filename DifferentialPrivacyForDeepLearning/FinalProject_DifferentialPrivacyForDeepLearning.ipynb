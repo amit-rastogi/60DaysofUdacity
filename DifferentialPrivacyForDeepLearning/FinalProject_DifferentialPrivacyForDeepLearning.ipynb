{
 "cells": [
  {
   "cell_type": "code",
   "execution_count": 1,
   "metadata": {},
   "outputs": [],
   "source": [
    "import numpy as np\n",
    "import torch\n",
    "from torch import nn, optim\n",
    "import torch.nn.functional as F\n",
    "import torch.utils.data as utils"
   ]
  },
  {
   "cell_type": "code",
   "execution_count": 2,
   "metadata": {},
   "outputs": [],
   "source": [
    "num_hospitals = 10 #number of hospitals providing their models\n",
    "num_images = 10000 #number of un-labelled images that we want to train\n",
    "num_labels = 10 #number of mutually exclusive lables that the iamges can have"
   ]
  },
  {
   "cell_type": "code",
   "execution_count": 3,
   "metadata": {},
   "outputs": [],
   "source": [
    "#generate array of fake predicted labels for each hospital for all our images with shape num_images * num_hospitals\n",
    "predicted_labels = (np.random.rand(num_hospitals, num_images) * num_labels).astype(int).transpose()"
   ]
  },
  {
   "cell_type": "code",
   "execution_count": 4,
   "metadata": {},
   "outputs": [
    {
     "name": "stdout",
     "output_type": "stream",
     "text": [
      "(10000, 10)\n",
      "[8 8 5 7 8 2 3 3 1 9]\n"
     ]
    }
   ],
   "source": [
    "#check our predicted labels array\n",
    "print(predicted_labels.shape) #shape of the predicted lables for each hospital for all of our training images\n",
    "print(predicted_labels[0]) #one image predicted labels"
   ]
  },
  {
   "cell_type": "code",
   "execution_count": 5,
   "metadata": {},
   "outputs": [],
   "source": [
    "#for each image generate a label by getting the most agreed upon prediction by all the hospital adding laplacian noise to\n",
    "#the count of each occurrence of a prediction label \n",
    "private_combined_labels = [] \n",
    "for image in predicted_labels:\n",
    "    \n",
    "    label_count = np.bincount(image, minlength=num_labels)\n",
    "    \n",
    "    #decide upon the epsilon and beta values\n",
    "    epsilon = 0.1\n",
    "    beta = 1/epsilon\n",
    "    \n",
    "    #add laplacian noise to each count\n",
    "    for i in range(len(label_count)):\n",
    "        label_count[i] += np.random.laplace(0, beta, 1)\n",
    "    \n",
    "    chosen_label = np.argmax(label_count)\n",
    "    private_combined_labels.append(chosen_label)"
   ]
  },
  {
   "cell_type": "code",
   "execution_count": 6,
   "metadata": {},
   "outputs": [
    {
     "data": {
      "text/plain": [
       "torch.Size([10000])"
      ]
     },
     "execution_count": 6,
     "metadata": {},
     "output_type": "execute_result"
    }
   ],
   "source": [
    "#convert the private labels to tensor\n",
    "private_combined_labels = torch.FloatTensor(private_combined_labels).type(torch.LongTensor)\n",
    "private_combined_labels.shape"
   ]
  },
  {
   "cell_type": "code",
   "execution_count": 7,
   "metadata": {},
   "outputs": [
    {
     "data": {
      "text/plain": [
       "torch.Size([10000, 1, 28, 28])"
      ]
     },
     "execution_count": 7,
     "metadata": {},
     "output_type": "execute_result"
    }
   ],
   "source": [
    "#generate fake image data to train a neural netwrok on the private generated labels\n",
    "images = torch.randn((num_images, 1, 28, 28))\n",
    "images.shape"
   ]
  },
  {
   "cell_type": "code",
   "execution_count": 8,
   "metadata": {},
   "outputs": [],
   "source": [
    "train_dataset = utils.TensorDataset(images, private_combined_labels)\n",
    "train_dataloader = utils.DataLoader(train_dataset, batch_size=64)"
   ]
  },
  {
   "cell_type": "code",
   "execution_count": 9,
   "metadata": {},
   "outputs": [],
   "source": [
    "#Define our network architecture here\n",
    "class Classifier(nn.Module):\n",
    "    def __init__(self):\n",
    "        super().__init__()\n",
    "        self.fc1 = nn.Linear(784, 256)\n",
    "        self.fc2 = nn.Linear(256, 128)\n",
    "        self.fc3 = nn.Linear(128, 64)\n",
    "        self.fc4 = nn.Linear(64, num_labels)\n",
    "        \n",
    "    def forward(self, x):\n",
    "        # make sure input tensor is flattened\n",
    "        x = x.view(x.shape[0], -1)\n",
    "        \n",
    "        x = F.relu(self.fc1(x))\n",
    "        x = F.relu(self.fc2(x))\n",
    "        x = F.relu(self.fc3(x))\n",
    "        x = F.log_softmax(self.fc4(x), dim=1)\n",
    "        \n",
    "        return x"
   ]
  },
  {
   "cell_type": "code",
   "execution_count": 10,
   "metadata": {},
   "outputs": [],
   "source": [
    "# Create the network, define the criterion and optimizer\n",
    "model = Classifier()\n",
    "criterion = nn.NLLLoss()\n",
    "optimizer = optim.Adam(model.parameters(), lr=0.003)"
   ]
  },
  {
   "cell_type": "code",
   "execution_count": 11,
   "metadata": {},
   "outputs": [
    {
     "name": "stdout",
     "output_type": "stream",
     "text": [
      "Training loss: 2.305204453741669\n",
      "Training loss: 2.2787237288845574\n",
      "Training loss: 2.1791197790461743\n",
      "Training loss: 2.073322765386788\n",
      "Training loss: 1.9300715224758076\n",
      "Training loss: 1.8028447650800086\n",
      "Training loss: 1.6058019469877718\n",
      "Training loss: 1.3859849853120791\n",
      "Training loss: 1.2127848998376518\n",
      "Training loss: 1.0192063534335725\n"
     ]
    }
   ],
   "source": [
    "# Train the network here\n",
    "epochs = 10\n",
    "\n",
    "for e in range(epochs):\n",
    "    running_loss = 0\n",
    "    for images, labels in train_dataloader:        \n",
    "        log_ps = model(images)\n",
    "        loss = criterion(log_ps, labels)\n",
    "        \n",
    "        optimizer.zero_grad()\n",
    "        loss.backward()\n",
    "        optimizer.step()\n",
    "        \n",
    "        running_loss += loss.item()\n",
    "    else:\n",
    "        print(f\"Training loss: {running_loss/len(train_dataloader)}\")"
   ]
  },
  {
   "cell_type": "code",
   "execution_count": null,
   "metadata": {},
   "outputs": [],
   "source": []
  }
 ],
 "metadata": {
  "kernelspec": {
   "display_name": "Python 3",
   "language": "python",
   "name": "python3"
  },
  "language_info": {
   "codemirror_mode": {
    "name": "ipython",
    "version": 3
   },
   "file_extension": ".py",
   "mimetype": "text/x-python",
   "name": "python",
   "nbconvert_exporter": "python",
   "pygments_lexer": "ipython3",
   "version": "3.7.3"
  }
 },
 "nbformat": 4,
 "nbformat_minor": 2
}
