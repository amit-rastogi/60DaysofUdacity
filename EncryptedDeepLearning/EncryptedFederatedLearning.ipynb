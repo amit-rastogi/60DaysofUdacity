{
 "cells": [
  {
   "cell_type": "code",
   "execution_count": 1,
   "metadata": {},
   "outputs": [
    {
     "name": "stderr",
     "output_type": "stream",
     "text": [
      "WARNING:tf_encrypted:Falling back to insecure randomness since the required custom op could not be found for the installed version of TensorFlow (1.13.1). Fix this by compiling custom ops.\n"
     ]
    }
   ],
   "source": [
    "import torch\n",
    "import syft as sy\n",
    "from torch import nn, optim\n",
    "import torch.nn.functional as f"
   ]
  },
  {
   "cell_type": "code",
   "execution_count": 2,
   "metadata": {},
   "outputs": [],
   "source": [
    "class network(nn.Module):\n",
    "    def __init__(self):\n",
    "        super(network, self).__init__()\n",
    "        self.fc1 = nn.Linear(2,2)\n",
    "        self.fc2 = nn.Linear(2,1)\n",
    "    \n",
    "    def forward(self, x):\n",
    "        x = self.fc1(x)\n",
    "        x = f.relu(x)\n",
    "        x = self.fc2(x)\n",
    "        return x\n",
    "\n",
    "model = network()"
   ]
  },
  {
   "cell_type": "code",
   "execution_count": 3,
   "metadata": {},
   "outputs": [],
   "source": [
    "hook = sy.TorchHook(torch)\n",
    "\n",
    "bob = sy.VirtualWorker(hook, id=\"bob\")\n",
    "alice = sy.VirtualWorker(hook, id=\"alice\")\n",
    "trusted_crypto_provider = sy.VirtualWorker(hook, id=\"trusted_crypto_provider\")"
   ]
  },
  {
   "cell_type": "code",
   "execution_count": 4,
   "metadata": {},
   "outputs": [],
   "source": [
    "x = torch.tensor([[1.,2],[2,3],[4,5],[2,4]])\n",
    "y = torch.tensor([[1.],[0],[0],[1]])"
   ]
  },
  {
   "cell_type": "code",
   "execution_count": 5,
   "metadata": {},
   "outputs": [],
   "source": [
    "x = x.fix_precision().share(bob, alice, crypto_provider=trusted_crypto_provider, requires_grad=True)\n",
    "y = y.fix_precision().share(bob, alice, crypto_provider=trusted_crypto_provider, requires_grad=True)\n",
    "model = model.fix_precision().share(bob, alice, crypto_provider=trusted_crypto_provider, requires_grad=True)\n",
    "\n",
    "optimizer = optim.SGD(model.parameters(), lr=0.003).fix_precision()"
   ]
  },
  {
   "cell_type": "code",
   "execution_count": 6,
   "metadata": {},
   "outputs": [
    {
     "name": "stdout",
     "output_type": "stream",
     "text": [
      " Loss: tensor([2.3680])\n",
      " Loss: tensor([2.1260])\n",
      " Loss: tensor([1.9220])\n",
      " Loss: tensor([1.7360])\n",
      " Loss: tensor([1.5740])\n",
      " Loss: tensor([1.4250])\n",
      " Loss: tensor([1.2940])\n",
      " Loss: tensor([1.1790])\n",
      " Loss: tensor([1.0650])\n",
      " Loss: tensor([0.9660])\n",
      " Loss: tensor([0.8720])\n",
      " Loss: tensor([0.7910])\n",
      " Loss: tensor([0.7210])\n",
      " Loss: tensor([0.6580])\n",
      " Loss: tensor([0.6020])\n",
      " Loss: tensor([0.5540])\n",
      " Loss: tensor([0.5140])\n",
      " Loss: tensor([0.4790])\n",
      " Loss: tensor([0.4480])\n",
      " Loss: tensor([0.4240])\n",
      " Loss: tensor([0.4020])\n",
      " Loss: tensor([0.3840])\n",
      " Loss: tensor([0.3690])\n",
      " Loss: tensor([0.3560])\n",
      " Loss: tensor([0.3480])\n",
      " Loss: tensor([0.3380])\n",
      " Loss: tensor([0.3340])\n",
      " Loss: tensor([0.3260])\n",
      " Loss: tensor([0.3250])\n",
      " Loss: tensor([0.3210])\n",
      " Loss: tensor([0.3180])\n",
      " Loss: tensor([0.3190])\n",
      " Loss: tensor([0.3160])\n",
      " Loss: tensor([0.3130])\n",
      " Loss: tensor([0.3110])\n",
      " Loss: tensor([0.3100])\n",
      " Loss: tensor([0.3080])\n",
      " Loss: tensor([0.3080])\n",
      " Loss: tensor([0.3060])\n",
      " Loss: tensor([0.3060])\n",
      " Loss: tensor([0.3030])\n",
      " Loss: tensor([0.3010])\n",
      " Loss: tensor([0.3020])\n",
      " Loss: tensor([0.3010])\n",
      " Loss: tensor([0.3000])\n",
      " Loss: tensor([0.3000])\n",
      " Loss: tensor([0.2990])\n",
      " Loss: tensor([0.2990])\n",
      " Loss: tensor([0.2980])\n",
      " Loss: tensor([0.2980])\n"
     ]
    }
   ],
   "source": [
    "for epoch in range(50):\n",
    "    for i in range(10):\n",
    "        encrypted_pred = model(x)\n",
    "        optimizer.zero_grad()\n",
    "        loss = ((encrypted_pred - y)**2).sum()\n",
    "        loss.backward()\n",
    "        optimizer.step()\n",
    "    #print loss after each epoch    \n",
    "    print(\" Loss: \" + str(loss.get().float_precision()))       "
   ]
  },
  {
   "cell_type": "code",
   "execution_count": 7,
   "metadata": {},
   "outputs": [
    {
     "name": "stdout",
     "output_type": "stream",
     "text": [
      "tensor([[0.8490, 0.1300],\n",
      "        [0.1000, 0.9760]])\n",
      "tensor([-0.7090, -0.2260])\n",
      "tensor([[-0.9420,  0.5830]])\n",
      "tensor([0.0770])\n"
     ]
    }
   ],
   "source": [
    "model.get().float_precision()\n",
    "print(model.fc1.weight.data)\n",
    "print(model.fc1.bias.data)\n",
    "print(model.fc2.weight.data)\n",
    "print(model.fc2.bias.data)"
   ]
  },
  {
   "cell_type": "code",
   "execution_count": null,
   "metadata": {},
   "outputs": [],
   "source": []
  }
 ],
 "metadata": {
  "kernelspec": {
   "display_name": "Python 3",
   "language": "python",
   "name": "python3"
  },
  "language_info": {
   "codemirror_mode": {
    "name": "ipython",
    "version": 3
   },
   "file_extension": ".py",
   "mimetype": "text/x-python",
   "name": "python",
   "nbconvert_exporter": "python",
   "pygments_lexer": "ipython3",
   "version": "3.7.3"
  }
 },
 "nbformat": 4,
 "nbformat_minor": 2
}
