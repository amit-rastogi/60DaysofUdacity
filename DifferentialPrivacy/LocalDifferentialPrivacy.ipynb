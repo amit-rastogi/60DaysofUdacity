{
 "cells": [
  {
   "cell_type": "code",
   "execution_count": 1,
   "metadata": {},
   "outputs": [],
   "source": [
    "import torch"
   ]
  },
  {
   "cell_type": "code",
   "execution_count": 2,
   "metadata": {},
   "outputs": [],
   "source": [
    "def create_db(num_entries):\n",
    "    full_db = torch.rand(num_entries) > 0.5\n",
    "    return full_db\n",
    "\n",
    "def create_parallel_dbs(full_db):\n",
    "    parallel_dbs = []\n",
    "    for i in range(len(full_db)):\n",
    "        parallel_dbs.append(torch.cat((full_db[0:i], full_db[i+1:])))\n",
    "    return parallel_dbs"
   ]
  },
  {
   "cell_type": "code",
   "execution_count": 3,
   "metadata": {},
   "outputs": [],
   "source": [
    "num_entries = 100\n",
    "db = create_db(num_entries)"
   ]
  },
  {
   "cell_type": "code",
   "execution_count": 4,
   "metadata": {},
   "outputs": [],
   "source": [
    "def query(db, noise):\n",
    "    true_result = torch.mean(db.float())\n",
    "    #generate noise\n",
    "    first_coin_flip = (torch.rand(num_entries) > noise).float()\n",
    "    second_coin_flip = (torch.rand(num_entries) > 0.5).float()\n",
    "    differential_private_db = (db.float() * first_coin_flip) + ((1- first_coin_flip) * second_coin_flip)\n",
    "    #skewed query result\n",
    "    sk_dp_result = torch.mean(differential_private_db.float())\n",
    "    #de-skew the query result\n",
    "    dp_result = ((sk_dp_result/noise) - 0.5) * noise/(1-noise) \n",
    "    return (true_result, dp_result)"
   ]
  },
  {
   "cell_type": "code",
   "execution_count": 5,
   "metadata": {},
   "outputs": [
    {
     "name": "stdout",
     "output_type": "stream",
     "text": [
      "tensor(0.5500)\n",
      "tensor(0.5625)\n"
     ]
    }
   ],
   "source": [
    "true_result, dp_result = query(db, 0.2)\n",
    "print(true_result)\n",
    "print(dp_result)"
   ]
  },
  {
   "cell_type": "code",
   "execution_count": 6,
   "metadata": {},
   "outputs": [
    {
     "name": "stdout",
     "output_type": "stream",
     "text": [
      "tensor(0.5500)\n",
      "tensor(0.3500)\n"
     ]
    }
   ],
   "source": [
    "true_result, dp_result = query(db, 0.8)\n",
    "print(true_result)\n",
    "print(dp_result)"
   ]
  },
  {
   "cell_type": "code",
   "execution_count": 7,
   "metadata": {},
   "outputs": [],
   "source": [
    "num_entries = 10000\n",
    "db = create_db(num_entries)"
   ]
  },
  {
   "cell_type": "code",
   "execution_count": 8,
   "metadata": {},
   "outputs": [
    {
     "name": "stdout",
     "output_type": "stream",
     "text": [
      "tensor(0.5088)\n",
      "tensor(0.5131)\n"
     ]
    }
   ],
   "source": [
    "true_result, dp_result = query(db, 0.2)\n",
    "print(true_result)\n",
    "print(dp_result)"
   ]
  },
  {
   "cell_type": "code",
   "execution_count": 9,
   "metadata": {},
   "outputs": [
    {
     "name": "stdout",
     "output_type": "stream",
     "text": [
      "tensor(0.5088)\n",
      "tensor(0.5070)\n"
     ]
    }
   ],
   "source": [
    "true_result, dp_result = query(db, 0.8)\n",
    "print(true_result)\n",
    "print(dp_result)"
   ]
  },
  {
   "cell_type": "code",
   "execution_count": null,
   "metadata": {},
   "outputs": [],
   "source": []
  }
 ],
 "metadata": {
  "kernelspec": {
   "display_name": "Python 3",
   "language": "python",
   "name": "python3"
  },
  "language_info": {
   "codemirror_mode": {
    "name": "ipython",
    "version": 3
   },
   "file_extension": ".py",
   "mimetype": "text/x-python",
   "name": "python",
   "nbconvert_exporter": "python",
   "pygments_lexer": "ipython3",
   "version": "3.7.3"
  }
 },
 "nbformat": 4,
 "nbformat_minor": 2
}
