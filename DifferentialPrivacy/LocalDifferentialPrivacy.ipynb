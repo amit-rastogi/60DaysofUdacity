{
 "cells": [
  {
   "cell_type": "code",
   "execution_count": 1,
   "metadata": {},
   "outputs": [],
   "source": [
    "import torch"
   ]
  },
  {
   "cell_type": "code",
   "execution_count": 2,
   "metadata": {},
   "outputs": [],
   "source": [
    "def create_db(num_entries):\n",
    "    full_db = torch.rand(num_entries) > 0.5\n",
    "    return full_db\n",
    "\n",
    "def create_parallel_dbs(full_db):\n",
    "    parallel_dbs = []\n",
    "    for i in range(len(full_db)):\n",
    "        parallel_dbs.append(torch.cat((full_db[0:i], full_db[i+1:])))\n",
    "    return parallel_dbs"
   ]
  },
  {
   "cell_type": "code",
   "execution_count": 30,
   "metadata": {},
   "outputs": [],
   "source": [
    "num_entries = 10000\n",
    "db = create_db(num_entries)"
   ]
  },
  {
   "cell_type": "code",
   "execution_count": 31,
   "metadata": {},
   "outputs": [],
   "source": [
    "#generate noise\n",
    "first_coin_flip = (torch.rand(num_entries) > 0.5)\n",
    "second_coin_flip = (torch.rand(num_entries) > 0.5)"
   ]
  },
  {
   "cell_type": "code",
   "execution_count": 32,
   "metadata": {},
   "outputs": [],
   "source": [
    "def add_noise(db, noise):\n",
    "    return db.float() * noise.float()"
   ]
  },
  {
   "cell_type": "code",
   "execution_count": 33,
   "metadata": {},
   "outputs": [],
   "source": [
    "def query(db):\n",
    "    true_result = torch.mean(db.float())\n",
    "    differential_private_db = add_noise(db, first_coin_flip) + add_noise(1- first_coin_flip, second_coin_flip)\n",
    "    dp_result = torch.mean(differential_private_db.float())\n",
    "    #de-skew the result\n",
    "    dp_result = torch.mean(differential_private_db.float()) * 2 -0.5\n",
    "    return (true_result, dp_result)"
   ]
  },
  {
   "cell_type": "code",
   "execution_count": 34,
   "metadata": {},
   "outputs": [
    {
     "name": "stdout",
     "output_type": "stream",
     "text": [
      "tensor(0.4973)\n",
      "tensor(0.4994)\n"
     ]
    }
   ],
   "source": [
    "true_result, dp_result = query(db)\n",
    "print(true_result)\n",
    "print(dp_result)"
   ]
  },
  {
   "cell_type": "code",
   "execution_count": null,
   "metadata": {},
   "outputs": [],
   "source": []
  }
 ],
 "metadata": {
  "kernelspec": {
   "display_name": "Python 3",
   "language": "python",
   "name": "python3"
  },
  "language_info": {
   "codemirror_mode": {
    "name": "ipython",
    "version": 3
   },
   "file_extension": ".py",
   "mimetype": "text/x-python",
   "name": "python",
   "nbconvert_exporter": "python",
   "pygments_lexer": "ipython3",
   "version": "3.7.3"
  }
 },
 "nbformat": 4,
 "nbformat_minor": 2
}
