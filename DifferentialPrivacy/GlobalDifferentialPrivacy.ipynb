{
 "cells": [
  {
   "cell_type": "code",
   "execution_count": 1,
   "metadata": {},
   "outputs": [],
   "source": [
    "import torch\n",
    "from torch.distributions.laplace import Laplace\n",
    "import numpy as np"
   ]
  },
  {
   "cell_type": "code",
   "execution_count": 2,
   "metadata": {},
   "outputs": [],
   "source": [
    "def create_db(num_entries):\n",
    "    full_db = torch.rand(num_entries) > 0.5\n",
    "    return full_db\n",
    "\n",
    "def create_parallel_dbs(full_db):\n",
    "    parallel_dbs = []\n",
    "    for i in range(len(full_db)):\n",
    "        parallel_dbs.append(torch.cat((full_db[0:i], full_db[i+1:])))\n",
    "    return parallel_dbs"
   ]
  },
  {
   "cell_type": "code",
   "execution_count": 3,
   "metadata": {},
   "outputs": [],
   "source": [
    "def sum_query(db):\n",
    "    return db.sum()"
   ]
  },
  {
   "cell_type": "code",
   "execution_count": 9,
   "metadata": {},
   "outputs": [],
   "source": [
    "def mean_query(db):\n",
    "    return torch.mean(db.float())"
   ]
  },
  {
   "cell_type": "code",
   "execution_count": 5,
   "metadata": {},
   "outputs": [],
   "source": [
    "#epsilon for each query. If more than one query it would be divided across all the queries\n",
    "#the lower the epsilon the more noise would need to be added to ensure leakage is not more than epsilon\n",
    "epsilon = 0.5"
   ]
  },
  {
   "cell_type": "code",
   "execution_count": 15,
   "metadata": {},
   "outputs": [],
   "source": [
    "#global differential privacy - laplacian noise or gaussian noise. delta is not used for laplacian noise bu only for gaussian\n",
    "#if the query is less sensitive we would need to add less amount of noise. The more sensitive the more noise.\n",
    "def add_laplacian_noise(db, query, query_sensitivity):\n",
    "    beta = query_sensitivity / epsilon\n",
    "    #lp = Laplace(torch.tensor([0.]), beta, torch.tensor([1.]))\n",
    "    #laplacian_noise = lp.sample()\n",
    "    laplacian_noise = torch.tensor(np.random.laplace(0, beta, 1))\n",
    "    return sum_query(db) + laplacian_noise"
   ]
  },
  {
   "cell_type": "code",
   "execution_count": 16,
   "metadata": {},
   "outputs": [
    {
     "name": "stdout",
     "output_type": "stream",
     "text": [
      "tensor(54)\n",
      "tensor([53.5087], dtype=torch.float64)\n"
     ]
    }
   ],
   "source": [
    "num_entries = 100\n",
    "db = create_db(num_entries)\n",
    "\n",
    "true_result = sum_query(db)\n",
    "private_result = add_laplacian_noise(db, sum_query, 1) #sensitivity of sum query is 1\n",
    "\n",
    "print(true_result)\n",
    "print(private_result)"
   ]
  },
  {
   "cell_type": "code",
   "execution_count": 18,
   "metadata": {},
   "outputs": [
    {
     "name": "stdout",
     "output_type": "stream",
     "text": [
      "tensor(0.5400)\n",
      "tensor([53.9706], dtype=torch.float64)\n"
     ]
    }
   ],
   "source": [
    "true_result = mean_query(db)\n",
    "private_result = add_laplacian_noise(db, mean_query, 0.01) #sensitivity of mean query is 1/100\n",
    "\n",
    "print(true_result)\n",
    "print(private_result)"
   ]
  },
  {
   "cell_type": "code",
   "execution_count": null,
   "metadata": {},
   "outputs": [],
   "source": []
  }
 ],
 "metadata": {
  "kernelspec": {
   "display_name": "Python 3",
   "language": "python",
   "name": "python3"
  },
  "language_info": {
   "codemirror_mode": {
    "name": "ipython",
    "version": 3
   },
   "file_extension": ".py",
   "mimetype": "text/x-python",
   "name": "python",
   "nbconvert_exporter": "python",
   "pygments_lexer": "ipython3",
   "version": "3.7.3"
  }
 },
 "nbformat": 4,
 "nbformat_minor": 2
}
