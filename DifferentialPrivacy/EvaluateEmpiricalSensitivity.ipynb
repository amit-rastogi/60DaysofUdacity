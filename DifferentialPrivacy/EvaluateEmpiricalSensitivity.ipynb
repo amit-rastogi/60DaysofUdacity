{
 "cells": [
  {
   "cell_type": "code",
   "execution_count": null,
   "metadata": {},
   "outputs": [],
   "source": [
    "import torch"
   ]
  },
  {
   "cell_type": "code",
   "execution_count": 6,
   "metadata": {},
   "outputs": [],
   "source": [
    "def create_db_and_parallel_dbs(num_entries):\n",
    "    full_db = torch.rand(num_entries) > 0.5\n",
    "    parallel_dbs = []\n",
    "    for i in range(num_entries):\n",
    "        parallel_dbs.append(torch.cat((full_db[0:i], full_db[i+1:])))\n",
    "    return (full_db, parallel_dbs)"
   ]
  },
  {
   "cell_type": "code",
   "execution_count": 7,
   "metadata": {},
   "outputs": [],
   "source": [
    "#empirically calculate the sensitivity of a query\n",
    "def sensitivity(query, num_entries):\n",
    "    full_db, parallel_dbs = create_db_and_parallel_dbs(num_entries)\n",
    "    full_query_result = query(full_db)\n",
    "    max_distance = 0\n",
    "    for db in parallel_dbs:\n",
    "        distance = torch.abs(full_query_result - query(db))\n",
    "        if distance > max_distance:\n",
    "            max_distance = distance\n",
    "    return max_distance    "
   ]
  },
  {
   "cell_type": "code",
   "execution_count": 8,
   "metadata": {},
   "outputs": [],
   "source": [
    "def sum_query(db):\n",
    "    return db.sum()"
   ]
  },
  {
   "cell_type": "code",
   "execution_count": 15,
   "metadata": {},
   "outputs": [],
   "source": [
    "def mean_query(db):\n",
    "    return db.float().mean()"
   ]
  },
  {
   "cell_type": "code",
   "execution_count": 12,
   "metadata": {},
   "outputs": [
    {
     "name": "stdout",
     "output_type": "stream",
     "text": [
      "tensor(1)\n"
     ]
    }
   ],
   "source": [
    "print(sensitivity(sum_query, 2000))"
   ]
  },
  {
   "cell_type": "code",
   "execution_count": 17,
   "metadata": {},
   "outputs": [
    {
     "name": "stdout",
     "output_type": "stream",
     "text": [
      "tensor(0.0005)\n"
     ]
    }
   ],
   "source": [
    "print(sensitivity(mean_query, 1000))"
   ]
  },
  {
   "cell_type": "code",
   "execution_count": null,
   "metadata": {},
   "outputs": [],
   "source": []
  }
 ],
 "metadata": {
  "kernelspec": {
   "display_name": "Python 3",
   "language": "python",
   "name": "python3"
  },
  "language_info": {
   "codemirror_mode": {
    "name": "ipython",
    "version": 3
   },
   "file_extension": ".py",
   "mimetype": "text/x-python",
   "name": "python",
   "nbconvert_exporter": "python",
   "pygments_lexer": "ipython3",
   "version": "3.7.3"
  }
 },
 "nbformat": 4,
 "nbformat_minor": 2
}
